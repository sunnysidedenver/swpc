{
 "cells": [
  {
   "cell_type": "markdown",
   "id": "2ab9a41b",
   "metadata": {},
   "source": [
    "This program will auto-pull and save SDO images for ingest into the IDL \"image\" program in the forecast office."
   ]
  },
  {
   "cell_type": "code",
   "execution_count": 128,
   "id": "9b6ea4ed",
   "metadata": {},
   "outputs": [],
   "source": [
    "import requests"
   ]
  },
  {
   "cell_type": "code",
   "execution_count": 129,
   "id": "1389a904",
   "metadata": {},
   "outputs": [],
   "source": [
    "from tqdm import tqdm\n",
    "import requests"
   ]
  },
  {
   "cell_type": "markdown",
   "id": "b3099f45",
   "metadata": {},
   "source": [
    "First we request the image files from NASA and save them locally."
   ]
  },
  {
   "cell_type": "code",
   "execution_count": 236,
   "id": "1427252c",
   "metadata": {},
   "outputs": [],
   "source": [
    "import requests \n",
    "import shutil\n",
    "\n",
    "ch_url = \"https://sdo.gsfc.nasa.gov/assets/img/latest/latest_1024_0193.jpg\"\n",
    "spot_url = \"https://sdo.gsfc.nasa.gov/assets/img/latest/latest_1024_HMII.jpg\"\n",
    "mag_url = \"https://sdo.gsfc.nasa.gov/assets/img/latest/latest_1024_HMIB.jpg\"\n",
    "\n",
    "ch_filename = ch_url.split(\"/\")[-1]\n",
    "spot_filename = spot_url.split(\"/\")[-1]\n",
    "mag_filename = mag_url.split(\"/\")[-1]\n",
    "\n",
    "r_ch = requests.get(ch_url, stream = True)\n",
    "r_spot = requests.get(spot_url, stream = True)\n",
    "r_mag = requests.get(mag_url, stream = True)"
   ]
  },
  {
   "cell_type": "code",
   "execution_count": 237,
   "id": "4a2c51c3",
   "metadata": {},
   "outputs": [
    {
     "name": "stdout",
     "output_type": "stream",
     "text": [
      "CH image sucessfully downloaded...  latest_1024_0193.jpg\n"
     ]
    }
   ],
   "source": [
    "if r_ch.status_code == 200:\n",
    "    r_ch.raw.decode_content = True\n",
    "    \n",
    "    with open(ch_filename,'wb') as f:\n",
    "        shutil.copyfileobj(r_ch.raw, f)\n",
    "        \n",
    "    print('CH image sucessfully downloaded... ',ch_filename)\n",
    "else:\n",
    "    print('CH image couldn\\'t be retreived...')"
   ]
  },
  {
   "cell_type": "code",
   "execution_count": 238,
   "id": "48f59b9b",
   "metadata": {},
   "outputs": [
    {
     "name": "stdout",
     "output_type": "stream",
     "text": [
      "Spot image sucessfully downloaded...  latest_1024_HMII.jpg\n"
     ]
    }
   ],
   "source": [
    "if r_spot.status_code == 200:\n",
    "    r_spot.raw.decode_content = True\n",
    "    \n",
    "    with open(spot_filename,'wb') as f:\n",
    "        shutil.copyfileobj(r_spot.raw, f)\n",
    "        \n",
    "    print('Spot image sucessfully downloaded... ',spot_filename)\n",
    "else:\n",
    "    print('Spot image couldn\\'t be retreived...')"
   ]
  },
  {
   "cell_type": "code",
   "execution_count": 239,
   "id": "e43b459c",
   "metadata": {},
   "outputs": [
    {
     "name": "stdout",
     "output_type": "stream",
     "text": [
      "Mag image sucessfully downloaded...  latest_1024_HMIB.jpg\n"
     ]
    }
   ],
   "source": [
    "if r_mag.status_code == 200:\n",
    "    r_mag.raw.decode_content = True\n",
    "    \n",
    "    with open(mag_filename,'wb') as f:\n",
    "        shutil.copyfileobj(r_mag.raw, f)\n",
    "        \n",
    "    print('Mag image sucessfully downloaded... ',mag_filename)\n",
    "else:\n",
    "    print('Mag image couldn\\'t be retreived...')"
   ]
  },
  {
   "cell_type": "code",
   "execution_count": 240,
   "id": "2975b22d",
   "metadata": {},
   "outputs": [
    {
     "name": "stdout",
     "output_type": "stream",
     "text": [
      "The file name convention is: 20220101_000000_256_HMIB\n"
     ]
    }
   ],
   "source": [
    "# next to rename files to correct convention for image tool \n",
    "\n",
    "filename_test = \"https://sdo.gsfc.nasa.gov/assets/img/browse/2021/12/07/20211207_000000_256_HMIB.jpg\"\n",
    "print(\"The file name convention is: 20220101_000000_256_HMIB\")"
   ]
  },
  {
   "cell_type": "markdown",
   "id": "fc60c01c",
   "metadata": {},
   "source": [
    "Getting the filename from the URL,  breaking the URL down by elements, then stitching select elements back together following the format of the file name convention..."
   ]
  },
  {
   "cell_type": "code",
   "execution_count": 241,
   "id": "4caff1a3",
   "metadata": {},
   "outputs": [],
   "source": [
    "a = filename_test.split(\"/\")[-5] \n",
    "b = filename_test.split(\"/\")[-4] \n",
    "c = filename_test.split(\"/\")[-3] \n",
    "d = filename_test.split(\"/\")[-2] \n",
    "e = filename_test.split(\"/\")[-1]"
   ]
  },
  {
   "cell_type": "code",
   "execution_count": 242,
   "id": "7ac4b24d",
   "metadata": {},
   "outputs": [
    {
     "data": {
      "text/plain": [
       "'browse/2021/12/07/20211207_000000_256_HMIB.jpg'"
      ]
     },
     "execution_count": 242,
     "metadata": {},
     "output_type": "execute_result"
    }
   ],
   "source": [
    "a[:6]+ \"/\" + b[:10] +\"/\" + c[:12] + \"/\" + d[:14] + \"/\" + e"
   ]
  },
  {
   "cell_type": "code",
   "execution_count": 243,
   "id": "470a6a96",
   "metadata": {},
   "outputs": [],
   "source": [
    "import datetime"
   ]
  },
  {
   "cell_type": "code",
   "execution_count": 244,
   "id": "fea74ca1",
   "metadata": {},
   "outputs": [],
   "source": [
    "x = datetime.datetime.now()"
   ]
  },
  {
   "cell_type": "code",
   "execution_count": 245,
   "id": "69c151e3",
   "metadata": {},
   "outputs": [],
   "source": [
    "year = x.strftime(\"%Y\")"
   ]
  },
  {
   "cell_type": "code",
   "execution_count": 246,
   "id": "17f54820",
   "metadata": {},
   "outputs": [],
   "source": [
    "month = x.strftime(\"%m\")"
   ]
  },
  {
   "cell_type": "code",
   "execution_count": 247,
   "id": "9893144c",
   "metadata": {},
   "outputs": [],
   "source": [
    "day = x.strftime(\"%d\")"
   ]
  },
  {
   "cell_type": "code",
   "execution_count": 248,
   "id": "4235fcec",
   "metadata": {},
   "outputs": [],
   "source": [
    "# just a dummy time. the actual time doesn't matter really.\n",
    "time = \"000000\""
   ]
  },
  {
   "cell_type": "code",
   "execution_count": 249,
   "id": "f36dfc79",
   "metadata": {},
   "outputs": [],
   "source": [
    "renamed_spot = year + month + day + \"_\" + time + \"_\" + \"1024\" + \"_\" \"HMII\"\n",
    "renamed_mag = year + month + day + \"_\" + time + \"_\" + \"1024\" + \"_\" \"HMIB\"\n",
    "renamed_ch = year + month + day + \"_\" + time + \"_\" + \"1024\" + \"_\" \"0193\""
   ]
  },
  {
   "cell_type": "code",
   "execution_count": 250,
   "id": "3036d87e",
   "metadata": {},
   "outputs": [
    {
     "data": {
      "text/plain": [
       "'20220112_000000_1024_HMII'"
      ]
     },
     "execution_count": 250,
     "metadata": {},
     "output_type": "execute_result"
    }
   ],
   "source": [
    "renamed_spot"
   ]
  },
  {
   "cell_type": "code",
   "execution_count": 251,
   "id": "4d1eb597",
   "metadata": {},
   "outputs": [],
   "source": [
    "import os"
   ]
  },
  {
   "cell_type": "code",
   "execution_count": 252,
   "id": "247c46f7",
   "metadata": {},
   "outputs": [],
   "source": [
    "os.rename('latest_1024_HMII.jpg', renamed_spot + \".jpg\") "
   ]
  },
  {
   "cell_type": "code",
   "execution_count": 254,
   "id": "9af9a262",
   "metadata": {},
   "outputs": [],
   "source": [
    "os.rename('latest_1024_HMIB.jpg', renamed_mag + \".jpg\") "
   ]
  },
  {
   "cell_type": "code",
   "execution_count": 255,
   "id": "f733be88",
   "metadata": {},
   "outputs": [],
   "source": [
    "os.rename('latest_1024_0193.jpg', renamed_ch + \".jpg\") "
   ]
  },
  {
   "cell_type": "markdown",
   "id": "fa9e299f",
   "metadata": {},
   "source": [
    "Let's verify the files were renamed properly."
   ]
  },
  {
   "cell_type": "code",
   "execution_count": 258,
   "id": "82851c36",
   "metadata": {},
   "outputs": [],
   "source": [
    "import glob"
   ]
  },
  {
   "cell_type": "code",
   "execution_count": 259,
   "id": "407f7222",
   "metadata": {},
   "outputs": [],
   "source": [
    "list_ = glob.glob(r\"C:/Users/john_/Documents/*.jpg\")"
   ]
  },
  {
   "cell_type": "code",
   "execution_count": 260,
   "id": "0d6e0ea4",
   "metadata": {},
   "outputs": [
    {
     "data": {
      "text/plain": [
       "['C:/Users/john_/Documents\\\\20220112_000000_1024_0193.jpg',\n",
       " 'C:/Users/john_/Documents\\\\20220112_000000_1024_HMIB.jpg',\n",
       " 'C:/Users/john_/Documents\\\\20220112_000000_1024_HMII.jpg']"
      ]
     },
     "execution_count": 260,
     "metadata": {},
     "output_type": "execute_result"
    }
   ],
   "source": [
    "list_"
   ]
  },
  {
   "cell_type": "markdown",
   "id": "205b4e23",
   "metadata": {},
   "source": [
    "There were and they should now work with the IDL image tool. They will be saved in this same directory that the this program is run in. Please see the GitHub splash page for more information on testing and future efforts."
   ]
  },
  {
   "cell_type": "code",
   "execution_count": null,
   "id": "5ea44be4",
   "metadata": {},
   "outputs": [],
   "source": []
  }
 ],
 "metadata": {
  "kernelspec": {
   "display_name": "Python 3",
   "language": "python",
   "name": "python3"
  },
  "language_info": {
   "codemirror_mode": {
    "name": "ipython",
    "version": 3
   },
   "file_extension": ".py",
   "mimetype": "text/x-python",
   "name": "python",
   "nbconvert_exporter": "python",
   "pygments_lexer": "ipython3",
   "version": "3.8.8"
  }
 },
 "nbformat": 4,
 "nbformat_minor": 5
}
