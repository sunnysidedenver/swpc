{
 "cells": [
  {
   "cell_type": "markdown",
   "id": "65b4bf73",
   "metadata": {},
   "source": [
    "This program will auto-pull and save SDO images for ingest into the IDL \"image\" program in the forecast office."
   ]
  },
  {
   "cell_type": "markdown",
   "id": "b5a4688b",
   "metadata": {},
   "source": [
    "First we request the image files from NASA and save them locally."
   ]
  },
  {
   "cell_type": "code",
   "execution_count": 236,
   "id": "f7eae2e3",
   "metadata": {},
   "outputs": [],
   "source": [
    "import requests \n",
    "import shutil\n",
    "\n",
    "ch_url = \"https://sdo.gsfc.nasa.gov/assets/img/latest/latest_1024_0193.jpg\"\n",
    "spot_url = \"https://sdo.gsfc.nasa.gov/assets/img/latest/latest_1024_HMII.jpg\"\n",
    "mag_url = \"https://sdo.gsfc.nasa.gov/assets/img/latest/latest_1024_HMIB.jpg\"\n",
    "\n",
    "ch_filename = ch_url.split(\"/\")[-1]\n",
    "spot_filename = spot_url.split(\"/\")[-1]\n",
    "mag_filename = mag_url.split(\"/\")[-1]\n",
    "\n",
    "r_ch = requests.get(ch_url, stream = True)\n",
    "r_spot = requests.get(spot_url, stream = True)\n",
    "r_mag = requests.get(mag_url, stream = True)"
   ]
  },
  {
   "cell_type": "code",
   "execution_count": 237,
   "id": "d59c2a85",
   "metadata": {},
   "outputs": [
    {
     "name": "stdout",
     "output_type": "stream",
     "text": [
      "CH image sucessfully downloaded...  latest_1024_0193.jpg\n"
     ]
    }
   ],
   "source": [
    "if r_ch.status_code == 200:\n",
    "    r_ch.raw.decode_content = True\n",
    "    \n",
    "    with open(ch_filename,'wb') as f:\n",
    "        shutil.copyfileobj(r_ch.raw, f)\n",
    "        \n",
    "    print('CH image sucessfully downloaded... ',ch_filename)\n",
    "else:\n",
    "    print('CH image couldn\\'t be retreived...')"
   ]
  },
  {
   "cell_type": "code",
   "execution_count": 238,
   "id": "a02e94fc",
   "metadata": {},
   "outputs": [
    {
     "name": "stdout",
     "output_type": "stream",
     "text": [
      "Spot image sucessfully downloaded...  latest_1024_HMII.jpg\n"
     ]
    }
   ],
   "source": [
    "if r_spot.status_code == 200:\n",
    "    r_spot.raw.decode_content = True\n",
    "    \n",
    "    with open(spot_filename,'wb') as f:\n",
    "        shutil.copyfileobj(r_spot.raw, f)\n",
    "        \n",
    "    print('Spot image sucessfully downloaded... ',spot_filename)\n",
    "else:\n",
    "    print('Spot image couldn\\'t be retreived...')"
   ]
  },
  {
   "cell_type": "code",
   "execution_count": 239,
   "id": "5d3398c3",
   "metadata": {},
   "outputs": [
    {
     "name": "stdout",
     "output_type": "stream",
     "text": [
      "Mag image sucessfully downloaded...  latest_1024_HMIB.jpg\n"
     ]
    }
   ],
   "source": [
    "if r_mag.status_code == 200:\n",
    "    r_mag.raw.decode_content = True\n",
    "    \n",
    "    with open(mag_filename,'wb') as f:\n",
    "        shutil.copyfileobj(r_mag.raw, f)\n",
    "        \n",
    "    print('Mag image sucessfully downloaded... ',mag_filename)\n",
    "else:\n",
    "    print('Mag image couldn\\'t be retreived...')"
   ]
  },
  {
   "cell_type": "code",
   "execution_count": 240,
   "id": "3e7c01c4",
   "metadata": {},
   "outputs": [
    {
     "name": "stdout",
     "output_type": "stream",
     "text": [
      "The file name convention is: 20220101_000000_256_HMIB\n"
     ]
    }
   ],
   "source": [
    "# next to rename files to correct convention for image tool \n",
    "\n",
    "filename_test = \"https://sdo.gsfc.nasa.gov/assets/img/browse/2021/12/07/20211207_000000_256_HMIB.jpg\"\n",
    "print(\"The file name convention is: 20220101_000000_256_HMIB\")"
   ]
  },
  {
   "cell_type": "markdown",
   "id": "2157fe52",
   "metadata": {},
   "source": [
    "Getting the filename from the URL,  breaking the URL down by elements, then stitching select elements back together following the format of the file name convention..."
   ]
  },
  {
   "cell_type": "code",
   "execution_count": 241,
   "id": "c57104ab",
   "metadata": {},
   "outputs": [],
   "source": [
    "a = filename_test.split(\"/\")[-5] \n",
    "b = filename_test.split(\"/\")[-4] \n",
    "c = filename_test.split(\"/\")[-3] \n",
    "d = filename_test.split(\"/\")[-2] \n",
    "e = filename_test.split(\"/\")[-1]"
   ]
  },
  {
   "cell_type": "code",
   "execution_count": 242,
   "id": "b32c15aa",
   "metadata": {},
   "outputs": [
    {
     "data": {
      "text/plain": [
       "'browse/2021/12/07/20211207_000000_256_HMIB.jpg'"
      ]
     },
     "execution_count": 242,
     "metadata": {},
     "output_type": "execute_result"
    }
   ],
   "source": [
    "a[:6]+ \"/\" + b[:10] +\"/\" + c[:12] + \"/\" + d[:14] + \"/\" + e"
   ]
  },
  {
   "cell_type": "code",
   "execution_count": 243,
   "id": "bbb8049d",
   "metadata": {},
   "outputs": [],
   "source": [
    "import datetime"
   ]
  },
  {
   "cell_type": "code",
   "execution_count": 244,
   "id": "538b2ec6",
   "metadata": {},
   "outputs": [],
   "source": [
    "x = datetime.datetime.now()"
   ]
  },
  {
   "cell_type": "code",
   "execution_count": 245,
   "id": "bd87ff52",
   "metadata": {},
   "outputs": [],
   "source": [
    "year = x.strftime(\"%Y\")"
   ]
  },
  {
   "cell_type": "code",
   "execution_count": 246,
   "id": "e8a69122",
   "metadata": {},
   "outputs": [],
   "source": [
    "month = x.strftime(\"%m\")"
   ]
  },
  {
   "cell_type": "code",
   "execution_count": 247,
   "id": "414a313b",
   "metadata": {},
   "outputs": [],
   "source": [
    "day = x.strftime(\"%d\")"
   ]
  },
  {
   "cell_type": "code",
   "execution_count": 248,
   "id": "be79a7cd",
   "metadata": {},
   "outputs": [],
   "source": [
    "# just a dummy time. the actual time doesn't matter really.\n",
    "time = \"000000\""
   ]
  },
  {
   "cell_type": "code",
   "execution_count": 249,
   "id": "56e553b1",
   "metadata": {},
   "outputs": [],
   "source": [
    "renamed_spot = year + month + day + \"_\" + time + \"_\" + \"1024\" + \"_\" \"HMII\"\n",
    "renamed_mag = year + month + day + \"_\" + time + \"_\" + \"1024\" + \"_\" \"HMIB\"\n",
    "renamed_ch = year + month + day + \"_\" + time + \"_\" + \"1024\" + \"_\" \"0193\""
   ]
  },
  {
   "cell_type": "code",
   "execution_count": 250,
   "id": "8bf4c4eb",
   "metadata": {},
   "outputs": [
    {
     "data": {
      "text/plain": [
       "'20220112_000000_1024_HMII'"
      ]
     },
     "execution_count": 250,
     "metadata": {},
     "output_type": "execute_result"
    }
   ],
   "source": [
    "renamed_spot"
   ]
  },
  {
   "cell_type": "code",
   "execution_count": 251,
   "id": "92f8d532",
   "metadata": {},
   "outputs": [],
   "source": [
    "import os"
   ]
  },
  {
   "cell_type": "code",
   "execution_count": 252,
   "id": "5408b8b2",
   "metadata": {},
   "outputs": [],
   "source": [
    "os.rename('latest_1024_HMII.jpg', renamed_spot + \".jpg\") "
   ]
  },
  {
   "cell_type": "code",
   "execution_count": 254,
   "id": "11e79871",
   "metadata": {},
   "outputs": [],
   "source": [
    "os.rename('latest_1024_HMIB.jpg', renamed_mag + \".jpg\") "
   ]
  },
  {
   "cell_type": "code",
   "execution_count": 255,
   "id": "d2e40931",
   "metadata": {},
   "outputs": [],
   "source": [
    "os.rename('latest_1024_0193.jpg', renamed_ch + \".jpg\") "
   ]
  },
  {
   "cell_type": "markdown",
   "id": "1598875c",
   "metadata": {},
   "source": [
    "Let's verify the files were renamed properly."
   ]
  },
  {
   "cell_type": "code",
   "execution_count": 258,
   "id": "fcb40f56",
   "metadata": {},
   "outputs": [],
   "source": [
    "import glob"
   ]
  },
  {
   "cell_type": "code",
   "execution_count": 259,
   "id": "26d19391",
   "metadata": {},
   "outputs": [],
   "source": [
    "list_ = glob.glob(r\"C:/Users/john_/Documents/*.jpg\")"
   ]
  },
  {
   "cell_type": "code",
   "execution_count": 260,
   "id": "c719d538",
   "metadata": {},
   "outputs": [
    {
     "data": {
      "text/plain": [
       "['C:/Users/john_/Documents\\\\20220112_000000_1024_0193.jpg',\n",
       " 'C:/Users/john_/Documents\\\\20220112_000000_1024_HMIB.jpg',\n",
       " 'C:/Users/john_/Documents\\\\20220112_000000_1024_HMII.jpg']"
      ]
     },
     "execution_count": 260,
     "metadata": {},
     "output_type": "execute_result"
    }
   ],
   "source": [
    "list_"
   ]
  },
  {
   "cell_type": "markdown",
   "id": "d0e3e615",
   "metadata": {},
   "source": [
    "There were and they should now work with the IDL image tool. They will be saved in this same directory that the this program is run in. Please see the GitHub splash page for more information on testing and future efforts."
   ]
  },
  {
   "cell_type": "code",
   "execution_count": null,
   "id": "80e244fd",
   "metadata": {},
   "outputs": [],
   "source": []
  }
 ],
 "metadata": {
  "kernelspec": {
   "display_name": "Python 3",
   "language": "python",
   "name": "python3"
  },
  "language_info": {
   "codemirror_mode": {
    "name": "ipython",
    "version": 3
   },
   "file_extension": ".py",
   "mimetype": "text/x-python",
   "name": "python",
   "nbconvert_exporter": "python",
   "pygments_lexer": "ipython3",
   "version": "3.8.8"
  }
 },
 "nbformat": 4,
 "nbformat_minor": 5
}
